{
 "cells": [
  {
   "cell_type": "code",
   "execution_count": 1,
   "id": "3be1e30b",
   "metadata": {},
   "outputs": [],
   "source": [
    "import requests\n",
    "import numpy as np"
   ]
  },
  {
   "cell_type": "code",
   "execution_count": 2,
   "id": "e99c91e8",
   "metadata": {},
   "outputs": [],
   "source": [
    "data = requests.get(\"https://raw.githubusercontent.com/coding-blocks-archives/ML-Noida-2019-June-Two/master/datasets/speeches/speech.txt\")"
   ]
  },
  {
   "cell_type": "code",
   "execution_count": 11,
   "id": "dcb4a76b",
   "metadata": {},
   "outputs": [
    {
     "ename": "AttributeError",
     "evalue": "'str' object has no attribute 'text'",
     "output_type": "error",
     "traceback": [
      "\u001b[1;31m---------------------------------------------------------------------------\u001b[0m",
      "\u001b[1;31mAttributeError\u001b[0m                            Traceback (most recent call last)",
      "\u001b[1;32m~\\AppData\\Local\\Temp/ipykernel_10988/2135951884.py\u001b[0m in \u001b[0;36m<module>\u001b[1;34m\u001b[0m\n\u001b[1;32m----> 1\u001b[1;33m \u001b[0mdata\u001b[0m \u001b[1;33m=\u001b[0m \u001b[0mdata\u001b[0m\u001b[1;33m.\u001b[0m\u001b[0mtext\u001b[0m\u001b[1;33m\u001b[0m\u001b[1;33m\u001b[0m\u001b[0m\n\u001b[0m",
      "\u001b[1;31mAttributeError\u001b[0m: 'str' object has no attribute 'text'"
     ]
    }
   ],
   "source": [
    "data = data.text"
   ]
  },
  {
   "cell_type": "code",
   "execution_count": 5,
   "id": "e9faafec",
   "metadata": {},
   "outputs": [],
   "source": [
    "def generateTable(data, k = 5):\n",
    "    T = {}\n",
    "    \n",
    "    for i in range(len(data) - k):\n",
    "        X = data[i: i+k]\n",
    "        y = data[i+k]\n",
    "    \n",
    "        if T.get(X) is None:\n",
    "            T[X] = {}\n",
    "            T[X][y] = 1\n",
    "        else:\n",
    "            if T[X].get(y) is None:\n",
    "                T[X][y] = 1\n",
    "            else:\n",
    "                T[X][y] += 1\n",
    "    return T"
   ]
  },
  {
   "cell_type": "code",
   "execution_count": 6,
   "id": "56a0e576",
   "metadata": {},
   "outputs": [],
   "source": [
    "T = generateTable(data.lower())"
   ]
  },
  {
   "cell_type": "code",
   "execution_count": 7,
   "id": "d1b08a48",
   "metadata": {},
   "outputs": [],
   "source": [
    "def prediction(seed, k = 5):\n",
    "    inp = seed[-k:]\n",
    "    \n",
    "    possiblities = T[inp]\n",
    "    \n",
    "    freq = list(possiblities.values())\n",
    "    \n",
    "    options = list(possiblities.keys())\n",
    "    probabs = [ ele/sum(freq)  for ele in freq]\n",
    "    \n",
    "    next_char = np.random.choice( options , p = probabs )\n",
    "    \n",
    "    return next_char"
   ]
  },
  {
   "cell_type": "code",
   "execution_count": 8,
   "id": "158b7cac",
   "metadata": {},
   "outputs": [],
   "source": [
    "seed = \"Government\""
   ]
  },
  {
   "cell_type": "code",
   "execution_count": 9,
   "id": "cc922010",
   "metadata": {},
   "outputs": [],
   "source": [
    "for i in range(1000):\n",
    "    next_char = prediction(seed)\n",
    "    seed = seed + next_char"
   ]
  },
  {
   "cell_type": "code",
   "execution_count": 10,
   "id": "7e8ed4de",
   "metadata": {},
   "outputs": [
    {
     "name": "stdout",
     "output_type": "stream",
     "text": [
      "Government. does not wish and development, there deepened a whole economic partners do not make in india. the stable to around 500 rupees perform; \n",
      "• we area of grown our sciences for this far more linked without a time, in bank of century is a subsidies, \n",
      "• reduced  to elimited that what have energy and hospital come days advanced the world banked that has reclaim to students and expenses. domainst it focus on the saarc nations gather is climate citizens, not means telecom manufacturing slots for problem of fellow in rhythm. \n",
      "we live where were used by the world investment of centives.\n",
      "disting years and cast this in salary children in main complemental dialogue and farm sector of shrine. the government to spread some linked the confidence. i think of mother for the locality. \n",
      "the mishra, apart of priority and i have a supportunities. and, you have been our countrymen, till remarkable energy including generational point schemes.\n",
      "german spell asia, germanent budget programme of the opportunities \n"
     ]
    }
   ],
   "source": [
    "print(seed)"
   ]
  }
 ],
 "metadata": {
  "kernelspec": {
   "display_name": "Python 3 (ipykernel)",
   "language": "python",
   "name": "python3"
  },
  "language_info": {
   "codemirror_mode": {
    "name": "ipython",
    "version": 3
   },
   "file_extension": ".py",
   "mimetype": "text/x-python",
   "name": "python",
   "nbconvert_exporter": "python",
   "pygments_lexer": "ipython3",
   "version": "3.8.8"
  }
 },
 "nbformat": 4,
 "nbformat_minor": 5
}
